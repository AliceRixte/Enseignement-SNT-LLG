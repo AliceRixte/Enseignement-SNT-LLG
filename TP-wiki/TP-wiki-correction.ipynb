{
 "cells": [
  {
   "cell_type": "markdown",
   "metadata": {},
   "source": [
    "Supposons que nous soyons à la tête de wikipédia et que nous décidions d'en faire un projet lucratif en utilisant le comportement des utilisateurs·rice·s à des fins publicitaires. Pour que les utilisateurs·rice·s passent plus de temps sur wikipédia, nous allons mettre en place un système d'amis qui se basera sur les centres d'intérêts communs. En d'autre terme, nous allons créer un réseau social centré sur la connaissance et les centres d'intérêts.\n",
    "\n",
    "Wikipédia possède déjà toutes les données dont on pourrait rêver pour notre projet. Ici, nous allons utiliser un fichier nommé ``smallwikipedia.csv``, qui contient un petit échantillon de l'historique des modifications d'articles en rapport avec la révolution française. Nous allons rassembler des données pour recommander des ami·e·s au sein de notre wikipédia lucratif."
   ]
  },
  {
   "cell_type": "markdown",
   "metadata": {},
   "source": [
    "Partie 1\n",
    "-----------------------\n",
    "\n",
    "Les fichiers ``.csv`` sont essentiellement des tableaux, dont les colonnes sont représentées par les points-virgules ``;`` entre les données. Ils peuvent être lus dans un tableur.\n",
    "\n",
    "Ouvrez le fichier ``smallwikipedia.csv`` dans Excel ou Open Office Calc et comparez le résultat avec l'affichage des ``6`` première lignes du fichier en exécutant la cellule ci-après.\n",
    "\n",
    "**Question 1** \n",
    "À quoi correspondent les deux premières lignes du fichier (voir la partie sur les données du cours) ?\n"
   ]
  },
  {
   "cell_type": "markdown",
   "metadata": {},
   "source": [
    "**Question 1 Réponse** : La première ligne correspond aux descripteurs la seconde ligne aux types des valeurs des données stockées dans notre fichier."
   ]
  },
  {
   "cell_type": "code",
   "execution_count": 85,
   "metadata": {},
   "outputs": [
    {
     "name": "stdout",
     "output_type": "stream",
     "text": [
      "User;Name;Date;changes\n",
      "\n",
      "Category;Category;Date[dd/MM/yyyy HH:mm];int\n",
      "\n",
      "194.210.1.51;Bonnet_phrygien;19/10/2004 11:02;163\n",
      "\n",
      "Ske;Bonnet_phrygien;19/10/2004 12:11;751\n",
      "\n",
      "Ske;Bonnet_phrygien;19/10/2004 12:12;17\n",
      "\n",
      "83.27.202.42;Bonnet_phrygien;21/10/2004 10:39;42\n",
      "\n"
     ]
    }
   ],
   "source": [
    "f=open(\"smallwikipedia.csv\",\"r\")\n",
    "print(f.readline())\n",
    "print(f.readline())\n",
    "print(f.readline())\n",
    "print(f.readline())\n",
    "print(f.readline())\n",
    "print(f.readline())"
   ]
  },
  {
   "cell_type": "markdown",
   "metadata": {},
   "source": [
    "Nous observons qu'un même article peut être modifié par plusieurs personnes. La taille de la modification (et donc le temps passé)  correspond à la quatrième colonne. Nous pourrions donc recommander aux utilisateurs d'ajouter en amis d'autres utilisateurs qui se sont intéressés et ont modifié les même articles qu'eux.\n",
    "\n",
    "Ici, les données récupérées sont sous forme de grandes chaînes de caractères. Cette organisation ne nous permet pas de récupérer facilement nos données. Il serait plus simple d'avoir à disposition une liste par colonne du fichier. Ici, les dates de modification ne nous intéressent pas, nous souhaitons donc récupérer 3 colonnes : ``utilisateurs``,``articles`` et ``modifs``."
   ]
  },
  {
   "cell_type": "markdown",
   "metadata": {},
   "source": [
    "Pour cela, nous allons tout d'abord stocker chacune des lignes du fichier dans une longue liste. Nous allons utiliser une boucler ``for``. Celle-ci va effectuer la même opération pour chaque ligne ``ligne`` de notre fichier. L'opération ``append`` d'une liste permet d'ajouter un nouvel élément à la fin de la liste.\n",
    "\n",
    "Ainsi, pour chaque nouvelle ligne du fichier, nous allons l'ajouter à la fin de la ligne : "
   ]
  },
  {
   "cell_type": "code",
   "execution_count": 86,
   "metadata": {},
   "outputs": [
    {
     "name": "stdout",
     "output_type": "stream",
     "text": [
      "1000\n"
     ]
    }
   ],
   "source": [
    "fichier = open(\"smallwikipedia.csv\",\"r\")\n",
    "lignes = [] ### lignes est pour le moment une liste vide\n",
    "\n",
    "for ligne in fichier :  # pour chaque ligne du fichier, on l'ajoute à lignes\n",
    "    lignes.append(ligne)\n",
    "    \n",
    "print(len(lignes)) #on affiche le nombre d'éléments de la liste lignes"
   ]
  },
  {
   "cell_type": "markdown",
   "metadata": {},
   "source": [
    "**Question 2** \n",
    "Les deux premières lignes ne correspondent pas à des données, il nous faut donc les supprimer de notre tableau. Pour cela, utilisez la fonction ``ma_liste.pop(i)`` qui supprime le i ème élément de la liste (attention on compte à partir de ``0``).\n",
    "\n",
    "**Question 3**\n",
    "Afficher la 141 ème ligne du fichier."
   ]
  },
  {
   "cell_type": "code",
   "execution_count": 87,
   "metadata": {},
   "outputs": [
    {
     "name": "stdout",
     "output_type": "stream",
     "text": [
      "Vargenau;Coup_d'Ã‰tat_du_18_fructidor_an_V;29/01/2006 12:48;135\n",
      "\n"
     ]
    }
   ],
   "source": [
    "lignes.pop(0)\n",
    "lignes.pop(0)\n",
    "print(lignes[140])"
   ]
  },
  {
   "cell_type": "markdown",
   "metadata": {},
   "source": [
    "Pour chaque ligne du fichier, nous allons maintenant séparer la chaîne de caractère en 4, grâce aux poits-virgules. Nous allons pour cela utiliser à nouveau la boucle ``for``, mais cette fois avec un indice ``i`` qui va prendre toutes les valeurs possible entre ``0`` et la taille de la liste."
   ]
  },
  {
   "cell_type": "code",
   "execution_count": 88,
   "metadata": {},
   "outputs": [],
   "source": [
    "for i in range(0,len(lignes)) :\n",
    "    lignes[i] = lignes[i].split(';')"
   ]
  },
  {
   "cell_type": "markdown",
   "metadata": {},
   "source": [
    "**Question 4** Afficher la 141ème ligne à nouveau. Que s'est-il passé ? Expliquer."
   ]
  },
  {
   "cell_type": "code",
   "execution_count": 89,
   "metadata": {},
   "outputs": [
    {
     "name": "stdout",
     "output_type": "stream",
     "text": [
      "['Vargenau', \"Coup_d'Ã‰tat_du_18_fructidor_an_V\", '29/01/2006 12:48', '135\\n']\n"
     ]
    }
   ],
   "source": [
    "print(lignes[140])"
   ]
  },
  {
   "cell_type": "markdown",
   "metadata": {},
   "source": [
    "**Question 4 Réponse :** Chaque ligne, au lieu d'être une chaîne de caractère (donc du type *string*) est maintenant une liste de chaînes de caractères. Nous avons coupé note chaîne de caractère au niveau des points-virgules ';'. Cela va nous permettre d'accéder à chaque colonne de notre petite base de données."
   ]
  },
  {
   "cell_type": "markdown",
   "metadata": {},
   "source": [
    "Nous allons maintenant faire en sorte que nos données soient facilement accessibles. Cela commence par convertir le type dela taille des modifications des chaînes de caractère vers les entiers."
   ]
  },
  {
   "cell_type": "code",
   "execution_count": 90,
   "metadata": {},
   "outputs": [],
   "source": [
    "for i in range(0,len(lignes)) :\n",
    "    lignes[i][3][:-1] ## On supprime les retours à la ligne '\\n'\n",
    "    lignes[i][3] = int(lignes[i][3])"
   ]
  },
  {
   "cell_type": "markdown",
   "metadata": {},
   "source": [
    "**Question 5** Même question que la **Question 4**"
   ]
  },
  {
   "cell_type": "markdown",
   "metadata": {},
   "source": [
    "**Question 5 Réponse :** La dernière colonne de notre tableau est toujours une chaîne de caractère (string), alors que nous savons qu'elle est sensée être du type entier (int). On commence donc par retirer le caractère de retour à la ligne, puis on convertit vers le type entier. Cela va nous permettres d'avoir accès à toutes les opérations disponibles sur les entiers (addition, multiplication, comparaison, etc.)"
   ]
  },
  {
   "cell_type": "code",
   "execution_count": 91,
   "metadata": {},
   "outputs": [
    {
     "name": "stdout",
     "output_type": "stream",
     "text": [
      "['Vicomte Moniot', 'Cocarde_tricolore', '02/02/2006 05:08', 519]\n"
     ]
    }
   ],
   "source": [
    "print(lignes[142])"
   ]
  },
  {
   "cell_type": "markdown",
   "metadata": {},
   "source": [
    "**Question 6** \n",
    "Supprimez les dates de modifications sur toutes les lignes"
   ]
  },
  {
   "cell_type": "code",
   "execution_count": 92,
   "metadata": {},
   "outputs": [],
   "source": [
    "for i in range(0,len(lignes)) :\n",
    "    lignes[i].pop(2)"
   ]
  },
  {
   "cell_type": "code",
   "execution_count": 93,
   "metadata": {},
   "outputs": [
    {
     "name": "stdout",
     "output_type": "stream",
     "text": [
      "['Vargenau', \"Coup_d'Ã‰tat_du_18_fructidor_an_V\", 135]\n"
     ]
    }
   ],
   "source": [
    "print(lignes[140])"
   ]
  },
  {
   "cell_type": "markdown",
   "metadata": {},
   "source": [
    "Partie 2\n",
    "----------------------\n",
    "Nous allons à présent mettre en place un algorithme rudimentaires pour calculer un score de compatibilité entre deux utilisateur·rice·s.\n",
    "\n",
    "Commençons par calculer la quantité totale de modifications d'un·e utilisateur·rice."
   ]
  },
  {
   "cell_type": "code",
   "execution_count": 94,
   "metadata": {},
   "outputs": [
    {
     "name": "stdout",
     "output_type": "stream",
     "text": [
      "768\n"
     ]
    }
   ],
   "source": [
    "def nb_modif(utilisateur) : # Le fonctionnement de cette fonction doit être expliqué avec des commentaires (qui commencent par #)\n",
    "    modifs = 0 #on initialise notre compteur de modifications à 0\n",
    "    for ligne in lignes : # On parcourt toutes les lignes de notre base de données\n",
    "        if ligne[0] == utilisateur : # Si la ligne parcourue concerne l'utilisateur qui nous intéresse\n",
    "            modifs = modifs + ligne[2] # Alors on ajoute les modification associées à notre compteur de modifications\n",
    "    return modifs #on renvoie le nombre total de modification de l'utilisateur\n",
    "    \n",
    "print(nb_modif(\"Ske\"))"
   ]
  },
  {
   "cell_type": "markdown",
   "metadata": {},
   "source": [
    "**Question 7** Expliquez avec des commentaires le fonctionnement du code ci-dessus."
   ]
  },
  {
   "cell_type": "markdown",
   "metadata": {},
   "source": [
    "La compatibilité d'un·e utilisateur·rice ``u1`` avec un·e autre ``u2`` peut être considéré comme la quantité de modifications qu'``u1`` a effectuées sur un article où ``u2`` a aussi effectué une modification, divisée par le nombre total de modification d'``u1``.\n",
    "\n",
    "En d'autre terme, si on note ``m1`` la quantité totale de modifications d'``u1``.\n",
    "\n",
    "Nous allons commencer par créer la liste de tous les utilisateur·rice·s.\n",
    "\n"
   ]
  },
  {
   "cell_type": "code",
   "execution_count": 95,
   "metadata": {},
   "outputs": [],
   "source": [
    "utilisateurs = [] # on initialise une liste vide d'utilisateurs\n",
    "for ligne in lignes : # On parcourt chaque ligne de notre base de données\n",
    "    if not (ligne[0] in utilisateurs) : # on vérifie que l'utilisateur de la ligne courante n'est pas déjà dans notre liste\n",
    "        utilisateurs.append(ligne[0]) # On ajoute notre utilisateur à notre liste\n",
    "    "
   ]
  },
  {
   "cell_type": "markdown",
   "metadata": {},
   "source": [
    "**Question 8** Expliquez le code ci-dessus avec des commentaires"
   ]
  },
  {
   "cell_type": "markdown",
   "metadata": {},
   "source": [
    "**Question 9** Combien y a-t-il d'utilisateurs différents ? "
   ]
  },
  {
   "cell_type": "code",
   "execution_count": 96,
   "metadata": {},
   "outputs": [
    {
     "name": "stdout",
     "output_type": "stream",
     "text": [
      "Il y a 321 utilisateurs différents.\n"
     ]
    }
   ],
   "source": [
    "print(\"Il y a \" + str(len(utilisateurs)) + \" utilisateurs différents.\")"
   ]
  },
  {
   "cell_type": "markdown",
   "metadata": {},
   "source": [
    "**Question 10** On considère le graphe dont les nœuds sont les utilisateur·rice·s, et dont les arêtes correspondent aux modifications communes entre deux utilisateurs. Si nous voulons stocker ce graphe sous la forme d'une matrice d'adjacence, combien de booléens devrions nous stocker ? Est-ce optimal ? Proposer une alternative."
   ]
  },
  {
   "cell_type": "markdown",
   "metadata": {},
   "source": [
    "**Question 10 Réponse** Avec une matrice d'adjacence, il nou faudrait stocker $321*321$ entiers (int) différents. Cependant, la plupart de ces entiers vaudront 0. On pourrait donc se contenter de créer la liste des listes des contributions communes de chaque utilisateur.  Une telle liste est appelée une liste d'adjacence."
   ]
  },
  {
   "cell_type": "code",
   "execution_count": 97,
   "metadata": {},
   "outputs": [],
   "source": [
    "utilisateurs.sort()"
   ]
  },
  {
   "cell_type": "markdown",
   "metadata": {},
   "source": [
    "La liste des utilisateur·rice·s est maintenant ordonnée. \n",
    "\n",
    "**Question 11** Afficher l'avant-dernier·ère utilisateur·rice. Qu'observe-t-on ?  Quel était probablement sont réel pseudo ? Comment expliquer un tel problème d'affichage ?\n",
    "\n"
   ]
  },
  {
   "cell_type": "markdown",
   "metadata": {},
   "source": [
    "Avec Jupyter Notebook, un problème d'encodage apparaît. Voir la fiche d'exercices sur les chaînes de caractères."
   ]
  },
  {
   "cell_type": "code",
   "execution_count": 98,
   "metadata": {},
   "outputs": [
    {
     "name": "stdout",
     "output_type": "stream",
     "text": [
      "Ã‰clusette\n"
     ]
    }
   ],
   "source": [
    "print(utilisateurs[-2])"
   ]
  },
  {
   "cell_type": "markdown",
   "metadata": {},
   "source": [
    "**Question 12** Créez la liste du nombre total de modification par utilisateur· que vous appellerez ``total_modifs``. Vous pourrez vous appuyer sur le fonction ``nb_modif``."
   ]
  },
  {
   "cell_type": "code",
   "execution_count": 99,
   "metadata": {},
   "outputs": [],
   "source": [
    "total_modifs = []\n",
    "for utilisateur in utilisateurs :\n",
    "    total_modifs.append(nb_modif(utilisateur))"
   ]
  },
  {
   "cell_type": "markdown",
   "metadata": {},
   "source": [
    "Pour chaque utilisateur, nous allons commencer par calculer la liste des article auquel il a contribué, ainsi que le nombre de modifications associé à chaque article.  Nous représenterons donc le couple d'un article ``a`` et de son nombre de modifications ``m`` associées comme des liste de deux éléments ``[a,m]``.\n",
    "\n"
   ]
  },
  {
   "cell_type": "code",
   "execution_count": 100,
   "metadata": {},
   "outputs": [],
   "source": [
    "def contributions(utilisateur) : \n",
    "    contribs = [] #on initialise notre liste avec la liste vide\n",
    "    for ligne in lignes : # on parcourt chaque ligne de notre base de données\n",
    "        if ligne[0] == utilisateur : # on ne s'occcupe que de l'utilisateur qui nous intéresse\n",
    "            deja_contribue = False # on va vérifié si on a déjà l'article de la ligne dans contribs\n",
    "            for contrib in contribs : # on parcourt toutes les contributions qu'on a trouvées jusqu'à présent\n",
    "                if contrib[0] == ligne[1] : #si on avait déjà trouvé une contributions sur le même article\n",
    "                    deja_contribue = True # on actualise notre booléen\n",
    "                    contrib[1] += ligne[2] # on ajoute la contribution à notre paire déjà existante\n",
    "                    break\n",
    "            if not deja_contribue : # si on n'a pas trouvé l'article dans contribs\n",
    "                contribs.append([ligne[1],ligne[2]]) # on crée une nouvelle paire qu'on ajoute à contribs\n",
    "    return contribs        \n",
    "    "
   ]
  },
  {
   "cell_type": "markdown",
   "metadata": {},
   "source": [
    "**Question 13** Expliquer le code ci-dessus à l'aide de commentaires."
   ]
  },
  {
   "cell_type": "markdown",
   "metadata": {},
   "source": [
    "**Question 14** Afficher les contributions de l'utilisateur·rice ``Richelieu``."
   ]
  },
  {
   "cell_type": "code",
   "execution_count": 101,
   "metadata": {},
   "outputs": [
    {
     "data": {
      "text/plain": [
       "[[\"ComitÃ©_d'instruction_publique\", 1349],\n",
       " ['Adoption_par_Louis_XVI_de_la_cocarde_tricolore', 1478],\n",
       " ['Bataille_de_Cholet', 2839],\n",
       " ['Complot_rÃ©volutionnaire_nantais_contre_les_modÃ©rÃ©s', 122],\n",
       " ['Alexandre_FranÃ§ois_Marie_de_Beauharnais', 953],\n",
       " [\"Coup_d'Ã‰tat_du_30_prairial_an_VII_(18_juin_1799)\", 1768],\n",
       " [\"Coup_d'Ã‰tat_du_18_fructidor_an_V\", 2016],\n",
       " [\"Complot_de_l'Å’illet\", 4704],\n",
       " ['Conspiration_de_BicÃªtre', 4858],\n",
       " ['Conseil_exÃ©cutif_(RÃ©volution_franÃ§aise)', 976],\n",
       " ['Club_des_Impartiaux', 567],\n",
       " ['Club_de_1789', 717],\n",
       " ['Club_de_Salm', 559],\n",
       " ['Bon_Albert_Briois_de_Beaumetz', 3623],\n",
       " ['Certificat_de_civisme', 579]]"
      ]
     },
     "execution_count": 101,
     "metadata": {},
     "output_type": "execute_result"
    }
   ],
   "source": [
    "contributions(\"Richelieu\")"
   ]
  },
  {
   "cell_type": "markdown",
   "metadata": {},
   "source": [
    "Notre fonction de recommendation d'amis est maintenant à portée de main : pour chaque utilisateur·rice, nous avons la liste des articles auxquel iel a contribué. \n",
    "\n",
    "**Question 16** \n",
    "En utilisant la fonction ``contributions`` et la fonction ``nb_modifs``, implémentez la fonction ``afinite`` qui prend en argument deux utilisateurs et qui renvoie l'affinité du premier utilisateurs avec le second utilisateur."
   ]
  },
  {
   "cell_type": "code",
   "execution_count": 102,
   "metadata": {},
   "outputs": [],
   "source": [
    "def affinite(utilisateur1, utilisateur2) :\n",
    "    contribs1 = contributions(utilisateur1) #on récupère les contributions des deux utilisateurs\n",
    "    contribs2 = contributions(utilisateur2)\n",
    "    modifs_communes = 0\n",
    "    for contrib1 in contribs1 : \n",
    "        for contrib2 in contribs2 : # on récupère tous les couples possible de contribution\n",
    "            if contrib1[0] == contrib2[0] : # si le nom de l'article est identique, alors c'est un article commun\n",
    "                modifs_communes += contrib1[1] # on ajoute les contributions de l'utilisateur1 à ses contributions communes\n",
    "    return modifs_communes / nb_modif(utilisateur1) # on divise les modifications communes par le nombre total de modifications de l'utilisateur\n",
    "        "
   ]
  },
  {
   "cell_type": "markdown",
   "metadata": {},
   "source": [
    "**Question 17** Créez la liste des affinités de l'utilisateur·rice ``Richelieu``. "
   ]
  },
  {
   "cell_type": "code",
   "execution_count": 112,
   "metadata": {},
   "outputs": [],
   "source": [
    "richelieu = []\n",
    "for utilisateur in utilisateurs :\n",
    "    richelieu.append((affinite(\"Richelieu\",utilisateur),utilisateur))\n",
    "    \n"
   ]
  },
  {
   "cell_type": "markdown",
   "metadata": {},
   "source": [
    "**Question 18** Quel est l'utilisateur avec le plus d'affinité avec ``Richelieu`` (hormis Richelieu lui·elle-même) ? "
   ]
  },
  {
   "cell_type": "code",
   "execution_count": 114,
   "metadata": {},
   "outputs": [
    {
     "name": "stdout",
     "output_type": "stream",
     "text": [
      "[(1.0, 'Richelieu'), (0.9347794009148591, 'Chicobot'), (0.6972480448576066, 'Vargenau'), (0.41032167625793126, 'Polmars'), (0.4101003393832079, 'PierreEG')]\n"
     ]
    }
   ],
   "source": [
    "richelieu.sort(reverse=1)\n",
    "print(richelieu[:5])"
   ]
  }
 ],
 "metadata": {
  "kernelspec": {
   "display_name": "Python 3",
   "language": "python",
   "name": "python3"
  },
  "language_info": {
   "codemirror_mode": {
    "name": "ipython",
    "version": 3
   },
   "file_extension": ".py",
   "mimetype": "text/x-python",
   "name": "python",
   "nbconvert_exporter": "python",
   "pygments_lexer": "ipython3",
   "version": "3.9.0"
  }
 },
 "nbformat": 4,
 "nbformat_minor": 4
}
